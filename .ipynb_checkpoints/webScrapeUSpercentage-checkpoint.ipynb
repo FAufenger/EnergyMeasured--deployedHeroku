{
 "cells": [
  {
   "cell_type": "code",
   "execution_count": 1,
   "metadata": {},
   "outputs": [],
   "source": [
    "from splinter import Browser\n",
    "from bs4 import BeautifulSoup\n",
    "from webdriver_manager.chrome import ChromeDriverManager\n",
    "import pandas as pd\n",
    "import kaggle\n",
    "from sqlalchemy import create_engine\n",
    "import psycopg2\n",
    "import numpy as np"
   ]
  },
  {
   "cell_type": "code",
   "execution_count": null,
   "metadata": {},
   "outputs": [],
   "source": [
    "# Open browser with splinter \n",
    "# (Headless = True) Thus we do not see the browser oepning and closing\n",
    "executable_path = {'executable_path': 'chromedriver.exe'}\n",
    "browser = Browser('chrome', **executable_path, headless=False)"
   ]
  },
  {
   "cell_type": "code",
   "execution_count": null,
   "metadata": {},
   "outputs": [],
   "source": [
    "# HTML Object and Beautiful Soup Parseing\n",
    "url = 'https://www.nei.org/resources/statistics/state-electricity-generation-fuel-shares'\n",
    "browser.visit(url)"
   ]
  },
  {
   "cell_type": "code",
   "execution_count": null,
   "metadata": {},
   "outputs": [],
   "source": [
    "# HTML Object and Beautiful Soup Parseing\n",
    "html = browser.html\n",
    "soup = BeautifulSoup(html, 'html.parser')"
   ]
  },
  {
   "cell_type": "code",
   "execution_count": null,
   "metadata": {},
   "outputs": [],
   "source": [
    "# Retrieve and collect all desired data\n",
    "insider = soup.find_all('table')\n",
    "\n",
    "# All desired data is in one line, thus have to split\n",
    "us_percent_list = []\n",
    "temp_list = []\n",
    "\n",
    "for i in insider:\n",
    "    title= i.text.split(\":\")[1]\n",
    "    title = title.split(\"—\")[0]\n",
    "    artist = i.text.split(\"—\")[1]\n",
    "    year = i.text.split(\":\")[0]\n",
    "    temp_list.append(title)\n",
    "    temp_list.append(artist)\n",
    "    temp_list.append(year)\n",
    "    insider_list.append(temp_list)\n",
    "    temp_list = []\n",
    "    \n",
    "print(insider_list)"
   ]
  },
  {
   "cell_type": "code",
   "execution_count": null,
   "metadata": {},
   "outputs": [],
   "source": [
    "for tr in soup.find_all('tr'):\n",
    "    tds = tr.find_all('td')"
   ]
  },
  {
   "cell_type": "code",
   "execution_count": null,
   "metadata": {},
   "outputs": [],
   "source": []
  },
  {
   "cell_type": "code",
   "execution_count": null,
   "metadata": {},
   "outputs": [],
   "source": []
  },
  {
   "cell_type": "code",
   "execution_count": null,
   "metadata": {},
   "outputs": [],
   "source": [
    "# Convert data into df and clean\n",
    "US_percentage_df = pd.DataFrame(us_percent_list, columns = [\"State\", \"Nuclear (%)\", \"Coal (%)\", \"Natural Gas (%)\", \"Petroleum (%)\", \"Hydro (%)\", \"Geothermal (%)\", \"Solar - PV (%)\", \"Wind (%)\", \"Biomass and Other (%)\"])\n",
    "\n",
    "# Convert years to integers \n",
    "# insider_df['Year'] = (insider_df['Year']).astype(int)\n",
    "\n",
    "# Removing extra years \n",
    "#insider_df = insider_df[insider_df['Year'] <= 2019]\n",
    "#insider_df = insider_df[insider_df['Year'] >= 2010]\n",
    "#insider_df = insider_df.sort_values(by=['Year'])\n",
    "\n",
    "print(f'The length of this df is: {len(US_percentage_df)}')\n",
    "US_percentage_df"
   ]
  }
 ],
 "metadata": {
  "kernelspec": {
   "display_name": "Python [conda env:PythonData] *",
   "language": "python",
   "name": "conda-env-PythonData-py"
  },
  "language_info": {
   "codemirror_mode": {
    "name": "ipython",
    "version": 3
   },
   "file_extension": ".py",
   "mimetype": "text/x-python",
   "name": "python",
   "nbconvert_exporter": "python",
   "pygments_lexer": "ipython3",
   "version": "3.6.10"
  }
 },
 "nbformat": 4,
 "nbformat_minor": 4
}
